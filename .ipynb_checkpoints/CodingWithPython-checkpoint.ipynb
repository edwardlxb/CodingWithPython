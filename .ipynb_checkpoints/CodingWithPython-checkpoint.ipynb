{
 "cells": [
  {
   "cell_type": "markdown",
   "metadata": {},
   "source": [
    "Xinbo Lu\n",
    "\n",
    "Coding with Python\n",
    "\n",
    "GEOG458\n",
    "\n",
    "2/6/2019\n",
    "\n",
    "### Part 1 - Getting Started \n",
    "#### Task 1 \n",
    "I chose the [Machine Learning with scikit-learn](http://amueller.github.io/sklearn_tutorial/#/) article. The article and code are using sklearn package to create a machine learning model to detect insults in Social commentary. This is interesting to me because it taught me the workflow of creating a machine learning program, such as classficiation methods, clustering, and regression. \n",
    "\n",
    "#### Task 2\n",
    "**Q1 What appear to be some of the most popular or widely-used python packages? Link to them and/or to the sources you used to answer this question. Describe what a few of them do.**\n",
    "\n",
    "* [Numpy](http://www.numpy.org/) provides advanced math functions and data structures.\n",
    "* [Matplotlib](https://matplotlib.org/) provides ploting functions to data visualizations\n",
    "* [Pandas](http://pandas.pydata.org/) provides high-performance, easy-to-use data structures and data analysis tools\n",
    "\n",
    "**Q2 You’ll often want to do the same things in python that you do in R, but the packages are not the same. So you’ll use similar, but not identical, libraries. Find and link a library that serves the same or a similar purpose as ggplot does for R.**\n",
    "\n",
    "[Matplotlib](https://matplotlib.org/) is similar to ggplot for R. \n",
    "\n",
    "**Q3 You’ll also want to work with data in a format similar to what we’ve become used to: things like dataframes. Go find a python library for data analysis that uses something like dataframes. Link it here!**\n",
    "\n",
    "[Pandas](http://pandas.pydata.org/) has built in data analysis functions that can use array structures as dataframes in R. \n",
    "\n",
    "#### Task 3\n",
    "**Identify at least 3 differences between R and Python syntax, and describe them here.**\n",
    "\n",
    "* Importing library. R uses the library() call to import, while Python uses import *Library name* as *user defined name*\n",
    "* Functions. R needs *{}* to wrap the function, while python doesn't\n",
    "* Basic functions. R mainly uses function() to execute functions in a package, but python uses a dot, for example, df.index"
   ]
  },
  {
   "cell_type": "markdown",
   "metadata": {},
   "source": [
    "### Part 2 - Strings and Basic Syntax\n",
    "#### Task 4\n",
    "**Set a few objects to store character strings (i.e. x = “Penguin”), then “print” those objects in sequence to form a sentence.**"
   ]
  },
  {
   "cell_type": "code",
   "execution_count": 38,
   "metadata": {},
   "outputs": [
    {
     "name": "stdout",
     "output_type": "stream",
     "text": [
      "Hello world.\n"
     ]
    }
   ],
   "source": [
    "x = \"Hello\"\n",
    "y = \" world.\"\n",
    "print x + y\n"
   ]
  },
  {
   "cell_type": "markdown",
   "metadata": {},
   "source": [
    "#### Task 5\n",
    "**Set an object to store a number of your choosing, then “print” all the same objects from above, with the number inserted. If you don’t convert this number to a string, however, you’ll get an error. Finally, print the string in uppercase.**"
   ]
  },
  {
   "cell_type": "code",
   "execution_count": 39,
   "metadata": {},
   "outputs": [
    {
     "name": "stdout",
     "output_type": "stream",
     "text": [
      "HELLO WORLD. THIS IS YEAR 2019\n"
     ]
    }
   ],
   "source": [
    "z = \" This is year \"\n",
    "year = \"2019\"\n",
    "sentence = x + y + z + year\n",
    "print(sentence.upper())"
   ]
  },
  {
   "cell_type": "markdown",
   "metadata": {},
   "source": [
    "#### Task 5\n",
    "**Now put that same sentence, including the number-as-a-string, into a list object, and then join the objects in this list into a single, long string with spaces between the words. Once you’ve done this, use the “count” call to count how many letters of a particular type are within your string (the letters you count are up to you, depending on what you wrote). Then use the “find” call to find a single word, or part of one, within the string.**"
   ]
  },
  {
   "cell_type": "code",
   "execution_count": 45,
   "metadata": {},
   "outputs": [
    {
     "data": {
      "text/plain": [
       "['Hello world. This is year 2019']"
      ]
     },
     "execution_count": 45,
     "metadata": {},
     "output_type": "execute_result"
    }
   ],
   "source": [
    "list = [sentence]\n"
   ]
  },
  {
   "cell_type": "code",
   "execution_count": 33,
   "metadata": {},
   "outputs": [
    {
     "data": {
      "text/plain": [
       "datetime.date"
      ]
     },
     "execution_count": 33,
     "metadata": {},
     "output_type": "execute_result"
    }
   ],
   "source": []
  }
 ],
 "metadata": {
  "kernelspec": {
   "display_name": "Python 2",
   "language": "python",
   "name": "python2"
  },
  "language_info": {
   "codemirror_mode": {
    "name": "ipython",
    "version": 2
   },
   "file_extension": ".py",
   "mimetype": "text/x-python",
   "name": "python",
   "nbconvert_exporter": "python",
   "pygments_lexer": "ipython2",
   "version": "2.7.15"
  }
 },
 "nbformat": 4,
 "nbformat_minor": 2
}
