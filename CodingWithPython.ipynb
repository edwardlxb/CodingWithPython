{
 "cells": [
  {
   "cell_type": "markdown",
   "metadata": {},
   "source": [
    "Xinbo Lu\n",
    "\n",
    "Coding with Python\n",
    "\n",
    "GEOG458\n",
    "\n",
    "2/6/2019\n",
    "\n",
    "### Part 1 - Getting Started \n",
    "#### Task 1 \n",
    "I chose the [Machine Learning with scikit-learn](http://amueller.github.io/sklearn_tutorial/#/) article. The article and code are using sklearn package to create a machine learning model to detect insults in Social commentary. This is interesting to me because it taught me the workflow of creating a machine learning program, such as classficiation methods, clustering, and regression. \n",
    "\n",
    "#### Task 2\n",
    "**Q1 What appear to be some of the most popular or widely-used python packages? Link to them and/or to the sources you used to answer this question. Describe what a few of them do.**\n",
    "\n",
    "* [Numpy](http://www.numpy.org/) provides advanced math functions and data structures.\n",
    "* [Matplotlib](https://matplotlib.org/) provides ploting functions to data visualizations\n",
    "* [Pandas](http://pandas.pydata.org/) provides high-performance, easy-to-use data structures and data analysis tools\n",
    "\n",
    "**Q2 You’ll often want to do the same things in python that you do in R, but the packages are not the same. So you’ll use similar, but not identical, libraries. Find and link a library that serves the same or a similar purpose as ggplot does for R.**\n",
    "\n",
    "[Matplotlib](https://matplotlib.org/) is similar to ggplot for R. \n",
    "\n",
    "**Q3 You’ll also want to work with data in a format similar to what we’ve become used to: things like dataframes. Go find a python library for data analysis that uses something like dataframes. Link it here!**\n",
    "\n",
    "[Pandas](http://pandas.pydata.org/) has built in data analysis functions that can use array structures as dataframes in R. \n",
    "\n",
    "#### Task 3\n",
    "**Identify at least 3 differences between R and Python syntax, and describe them here.**\n",
    "\n",
    "* Importing library. R uses the library() call to import, while Python uses import *Library name* as *user defined name*\n",
    "* Functions. R needs *{}* to wrap the function, while python doesn't\n",
    "* Basic functions. R mainly uses function() to execute functions in a package, but python uses a dot, for example, df.index"
   ]
  },
  {
   "cell_type": "markdown",
   "metadata": {},
   "source": [
    "### Part 2 - Strings and Basic Syntax\n",
    "#### Task 4\n",
    "**Set a few objects to store character strings (i.e. x = “Penguin”), then “print” those objects in sequence to form a sentence.**"
   ]
  },
  {
   "cell_type": "code",
   "execution_count": 37,
   "metadata": {},
   "outputs": [
    {
     "name": "stdout",
     "output_type": "stream",
     "text": [
      "Hello world.\n"
     ]
    }
   ],
   "source": [
    "x = \"Hello\"\n",
    "y = \"world.\"\n",
    "print x + \" \" + y\n"
   ]
  },
  {
   "cell_type": "markdown",
   "metadata": {},
   "source": [
    "#### Task 5\n",
    "**Set an object to store a number of your choosing, then “print” all the same objects from above, with the number inserted. If you don’t convert this number to a string, however, you’ll get an error. Finally, print the string in uppercase.**"
   ]
  },
  {
   "cell_type": "code",
   "execution_count": 40,
   "metadata": {},
   "outputs": [
    {
     "name": "stdout",
     "output_type": "stream",
     "text": [
      "HELLO WORLD. THIS IS YEAR 2019\n"
     ]
    }
   ],
   "source": [
    "z = \"This is year\"\n",
    "year = \"2019\"\n",
    "sentence = x + \" \"  + y + \" \" +z + \" \" + year\n",
    "print(sentence.upper())"
   ]
  },
  {
   "cell_type": "markdown",
   "metadata": {},
   "source": [
    "#### Task 6\n",
    "**Now put that same sentence, including the number-as-a-string, into a list object, and then join the objects in this list into a single, long string with spaces between the words. Once you’ve done this, use the “count” call to count how many letters of a particular type are within your string (the letters you count are up to you, depending on what you wrote). Then use the “find” call to find a single word, or part of one, within the string.**"
   ]
  },
  {
   "cell_type": "code",
   "execution_count": 41,
   "metadata": {},
   "outputs": [
    {
     "data": {
      "text/plain": [
       "'Hello world. This is year 2019'"
      ]
     },
     "execution_count": 41,
     "metadata": {},
     "output_type": "execute_result"
    }
   ],
   "source": [
    "## Join the list into a single long string with spaces\n",
    "sen_list = [x, y, z, year]\n",
    "space = \" \"\n",
    "t5_sentence = space.join(sen_list)\n",
    "t5_sentence"
   ]
  },
  {
   "cell_type": "code",
   "execution_count": 42,
   "metadata": {},
   "outputs": [
    {
     "data": {
      "text/plain": [
       "2"
      ]
     },
     "execution_count": 42,
     "metadata": {},
     "output_type": "execute_result"
    }
   ],
   "source": [
    "## Count how many letters of a particular type are within the string\n",
    "t5_sentence.count(\"r\")"
   ]
  },
  {
   "cell_type": "code",
   "execution_count": 44,
   "metadata": {},
   "outputs": [
    {
     "name": "stdout",
     "output_type": "stream",
     "text": [
      "21\n",
      "year\n"
     ]
    }
   ],
   "source": [
    "## Find the word contains \"r\"\n",
    "index = t5_sentence.find(\"year\")\n",
    "print(index)\n",
    "print(t5_sentence[21:25])"
   ]
  },
  {
   "cell_type": "markdown",
   "metadata": {},
   "source": [
    "#### Task 7  \n",
    "**Note that python strings are counted starting at 0. Keeping this in mind, print just the first half of your sentence string.**"
   ]
  },
  {
   "cell_type": "code",
   "execution_count": 45,
   "metadata": {},
   "outputs": [
    {
     "name": "stdout",
     "output_type": "stream",
     "text": [
      "Hello world. Th\n"
     ]
    }
   ],
   "source": [
    "print(t5_sentence[0:len(t5_sentence)/2])"
   ]
  },
  {
   "cell_type": "markdown",
   "metadata": {},
   "source": [
    "#### Task 8\n",
    "**Now let’s strip that number back out of the string. Use the “strip” call to do this. In addition to removing the number, use the “replace” call to replace one of the words in your string. NOTE: \"strip\" will only work if the number added at the end (or beginning) of your longer string, because it strips from the ends (you can also yous rstrip and lstrip to strip just from the left or right). If you happened to add it somewhere *in the middle*, then you'll have to use \"replace\" two times -- you can always \"replace\" something with empty brackets to remove it from the middle.**"
   ]
  },
  {
   "cell_type": "code",
   "execution_count": 66,
   "metadata": {},
   "outputs": [
    {
     "data": {
      "text/plain": [
       "'2019'"
      ]
     },
     "execution_count": 66,
     "metadata": {},
     "output_type": "execute_result"
    }
   ],
   "source": [
    "t8_replace = t5_sentence.replace(\"world.\", \"python.\")\n",
    "t8_strip = t8_replace.lstrip(\"Hello python. This is year\")\n",
    "t8_strip"
   ]
  },
  {
   "cell_type": "markdown",
   "metadata": {},
   "source": [
    "#### Task 9\n",
    "**Now use the “split” call to split all the individual words back into a list, and then add a new word to your list of individual words, somewhere in the middle. Note that list objects will not be indexed like strings, instead each individual element in the list will be counted as “1” element, and this indexing starts at 1 (unlike the indexing of strings, which starts at 0), so inserting a word in the front of your list means inserting it at position 1.**"
   ]
  },
  {
   "cell_type": "code",
   "execution_count": 79,
   "metadata": {},
   "outputs": [
    {
     "data": {
      "text/plain": [
       "['Hello', 'world.', 'This', 'random', 'is', 'year', '2019']"
      ]
     },
     "execution_count": 79,
     "metadata": {},
     "output_type": "execute_result"
    }
   ],
   "source": [
    "t9_list = t5_sentence.split(\" \")\n",
    "t9_list.insert(3, \"random\")\n",
    "t9_list "
   ]
  },
  {
   "cell_type": "markdown",
   "metadata": {},
   "source": [
    "### Part 3 - conditionals\n",
    "#### Task 10\n",
    "**Create an object that draws from a pool of random integers between 1 and 100 (note you will probably have to import the module random with “import random”), then write out a script that prints the number, then, if that number is 25 or below, prints “1st Quartile”; if it is greater than 25 (not including 25) but equal to or lower than 50, prints “2nd Quartile”; if it is greater than 50 (not including 50) but equal to or lower than 75, prints “3rd Quartile”; and if it is greater than 75 (not including 75) but equal to or lower than 100, prints “4th Quartile”.**"
   ]
  },
  {
   "cell_type": "code",
   "execution_count": 90,
   "metadata": {},
   "outputs": [
    {
     "name": "stdout",
     "output_type": "stream",
     "text": [
      "37\n",
      "2nd Quartile\n"
     ]
    }
   ],
   "source": [
    "import random\n",
    "rmdInt = random.randint(1,100)\n",
    "print(rmdInt)\n",
    "\n",
    "if rmdInt <= 25:\n",
    "    print \"1st Quartile\"\n",
    "elif rmdInt > 25 and rmdInt <= 50:\n",
    "    print \"2nd Quartile\"\n",
    "elif rmdInt > 50 and rmdInt <= 75:\n",
    "    print \"3rd Quartile\"\n",
    "else:\n",
    "    print \"4th Quartile\""
   ]
  },
  {
   "cell_type": "markdown",
   "metadata": {},
   "source": [
    "### Part 4 - Loops\n",
    "#### Task 11\n",
    "**For this task, make a list object, and store the names of at least 6 cities (you choose which) in that list. Then, make a for loop that prints a warning message for each city in the list, using this text, but inserting the city name into the CITY location: “Warning, residents of CITY, temperatures will reach sub-zero temperatures today, please stay indoors if possible\"** "
   ]
  },
  {
   "cell_type": "code",
   "execution_count": 18,
   "metadata": {},
   "outputs": [
    {
     "name": "stdout",
     "output_type": "stream",
     "text": [
      "Warning, residents of Seattle, temperatures will reach sub-zero temperatures today, please stay indoors if possible\n",
      "Warning, residents of LA, temperatures will reach sub-zero temperatures today, please stay indoors if possible\n",
      "Warning, residents of Vegas, temperatures will reach sub-zero temperatures today, please stay indoors if possible\n",
      "Warning, residents of NYC, temperatures will reach sub-zero temperatures today, please stay indoors if possible\n",
      "Warning, residents of Beijing, temperatures will reach sub-zero temperatures today, please stay indoors if possible\n",
      "Warning, residents of HK, temperatures will reach sub-zero temperatures today, please stay indoors if possible\n"
     ]
    }
   ],
   "source": [
    "cities = [\"Seattle\", \"LA\", \"Vegas\", \"NYC\", \"Beijing\", \"HK\"]\n",
    "for letter in range(len(cities)):\n",
    "    print \"Warning, residents of \" + cities[letter] + \", temperatures will reach sub-zero temperatures today, please stay indoors if possible\"\n",
    "    "
   ]
  },
  {
   "cell_type": "markdown",
   "metadata": {},
   "source": [
    "#### Task 12 \n",
    "**For this task, then, make an empty list to store your results, and create a for loop that produces a series of filenames for shapefiles. I want you to produce the full path, i.e. “U://Users/Zhang/Geog_458/filename.shp”, but have the loop replace “filename” with the names of these states, one shapefile per state: “Washington, California, Nevada, Idaho, Montana, Utah, Colorado, New Mexico.” You may want to store those names in a separate list like we did with the cities above, each as an individual string (i.e. not one long string). Just to show your work, have it “print” each filename as well when you run the code.**"
   ]
  },
  {
   "cell_type": "code",
   "execution_count": 21,
   "metadata": {},
   "outputs": [
    {
     "data": {
      "text/plain": [
       "['U://Users/Zhang/Geog_458/Washington.shp',\n",
       " 'U://Users/Zhang/Geog_458/California.shp',\n",
       " 'U://Users/Zhang/Geog_458/Nevada.shp',\n",
       " 'U://Users/Zhang/Geog_458/Idaho.shp',\n",
       " 'U://Users/Zhang/Geog_458/Montana.shp',\n",
       " 'U://Users/Zhang/Geog_458/Utah.shp',\n",
       " 'U://Users/Zhang/Geog_458/Colorado.shp',\n",
       " 'U://Users/Zhang/Geog_458/New Maxico.shp']"
      ]
     },
     "execution_count": 21,
     "metadata": {},
     "output_type": "execute_result"
    }
   ],
   "source": [
    "state = [\"Washington\", \"California\", \"Nevada\", \"Idaho\", \"Montana\", \"Utah\", \"Colorado\", \"New Maxico\"]\n",
    "path = []\n",
    "for index in range(len(state)):\n",
    "    path.append(\"U://Users/Zhang/Geog_458/\" + state[index] + \".shp\")\n",
    "    \n",
    "path"
   ]
  },
  {
   "cell_type": "markdown",
   "metadata": {},
   "source": [
    "#### Task 13\n",
    "**For this task, we are going to make a  simple counting while loop, which is what is commonly used in textbook examples. Make a loop that counts down from 10, stopping at zero. For each count, print a line that says “T-minus COUNT”, replacing COUNT with the number.**"
   ]
  },
  {
   "cell_type": "code",
   "execution_count": 3,
   "metadata": {},
   "outputs": [
    {
     "name": "stdout",
     "output_type": "stream",
     "text": [
      "T-minus 10\n",
      "T-minus 9\n",
      "T-minus 8\n",
      "T-minus 7\n",
      "T-minus 6\n",
      "T-minus 5\n",
      "T-minus 4\n",
      "T-minus 3\n",
      "T-minus 2\n",
      "T-minus 1\n",
      "T-minus 0\n"
     ]
    }
   ],
   "source": [
    "i = 10\n",
    "while i >= 0:\n",
    "    print \"T-minus\",i\n",
    "    i = i-1"
   ]
  },
  {
   "cell_type": "markdown",
   "metadata": {},
   "source": [
    "#### Task 14\n",
    "**Now let’s make that while loop from above into a function called “countdown” where we can put different numbers in the argument and have the loop count down to zero.**"
   ]
  },
  {
   "cell_type": "code",
   "execution_count": 42,
   "metadata": {},
   "outputs": [
    {
     "name": "stdout",
     "output_type": "stream",
     "text": [
      "T-minus  10\n",
      "T-minus  9\n",
      "T-minus  8\n",
      "T-minus  7\n",
      "T-minus  6\n",
      "T-minus  5\n",
      "T-minus  4\n",
      "T-minus  3\n",
      "T-minus  2\n",
      "T-minus  1\n",
      "T-minus  0\n"
     ]
    }
   ],
   "source": [
    "def countdown(maxNum):\n",
    "    if maxNum < 0:\n",
    "        print \"Invalid number. Enter a number greater or equal to 0\"\n",
    "    else:\n",
    "        while maxNum >= 0:\n",
    "            print \"T-minus \", maxNum\n",
    "            maxNum = maxNum -1\n",
    "            \n",
    "countdown(10)"
   ]
  },
  {
   "cell_type": "markdown",
   "metadata": {},
   "source": [
    "#### Task  15\n",
    "**Make a function called “quartile_calc” that takes a number (not a random integer now, but an argument the user inputs) and tells us which quartile it lies within, in a range of 0 to 100 (as if the number was a percent). You will want to add one or two final lines to your conditional statement, however, returning an “Error” message if the number entered by the user is less than 0 or greater than 100.**"
   ]
  },
  {
   "cell_type": "code",
   "execution_count": 5,
   "metadata": {},
   "outputs": [
    {
     "name": "stdout",
     "output_type": "stream",
     "text": [
      "1st Quartile\n"
     ]
    },
    {
     "ename": "ValueError",
     "evalue": "Your number should >= 0 and <= 100",
     "output_type": "error",
     "traceback": [
      "\u001b[1;31m\u001b[0m",
      "\u001b[1;31mValueError\u001b[0mTraceback (most recent call last)",
      "\u001b[1;32m<ipython-input-5-6209e7084e24>\u001b[0m in \u001b[0;36m<module>\u001b[1;34m()\u001b[0m\n\u001b[0;32m     12\u001b[0m \u001b[1;33m\u001b[0m\u001b[0m\n\u001b[0;32m     13\u001b[0m \u001b[0mquartile_calc\u001b[0m\u001b[1;33m(\u001b[0m\u001b[1;36m14\u001b[0m\u001b[1;33m)\u001b[0m\u001b[1;33m\u001b[0m\u001b[0m\n\u001b[1;32m---> 14\u001b[1;33m \u001b[0mquartile_calc\u001b[0m\u001b[1;33m(\u001b[0m\u001b[1;36m101\u001b[0m\u001b[1;33m)\u001b[0m\u001b[1;33m\u001b[0m\u001b[0m\n\u001b[0m",
      "\u001b[1;32m<ipython-input-5-6209e7084e24>\u001b[0m in \u001b[0;36mquartile_calc\u001b[1;34m(userNum)\u001b[0m\n\u001b[0;32m      1\u001b[0m \u001b[1;32mdef\u001b[0m \u001b[0mquartile_calc\u001b[0m \u001b[1;33m(\u001b[0m\u001b[0muserNum\u001b[0m\u001b[1;33m)\u001b[0m\u001b[1;33m:\u001b[0m\u001b[1;33m\u001b[0m\u001b[0m\n\u001b[0;32m      2\u001b[0m     \u001b[1;32mif\u001b[0m \u001b[0muserNum\u001b[0m \u001b[1;33m<\u001b[0m \u001b[1;36m0\u001b[0m \u001b[1;32mor\u001b[0m \u001b[0muserNum\u001b[0m \u001b[1;33m>\u001b[0m \u001b[1;36m100\u001b[0m\u001b[1;33m:\u001b[0m\u001b[1;33m\u001b[0m\u001b[0m\n\u001b[1;32m----> 3\u001b[1;33m         \u001b[1;32mraise\u001b[0m \u001b[0mValueError\u001b[0m\u001b[1;33m(\u001b[0m\u001b[1;34m'Your number should >= 0 and <= 100'\u001b[0m\u001b[1;33m)\u001b[0m\u001b[1;33m\u001b[0m\u001b[0m\n\u001b[0m\u001b[0;32m      4\u001b[0m     \u001b[1;32melif\u001b[0m \u001b[0muserNum\u001b[0m \u001b[1;33m<=\u001b[0m \u001b[1;36m25\u001b[0m\u001b[1;33m:\u001b[0m\u001b[1;33m\u001b[0m\u001b[0m\n\u001b[0;32m      5\u001b[0m         \u001b[1;32mprint\u001b[0m \u001b[1;34m\"1st Quartile\"\u001b[0m\u001b[1;33m\u001b[0m\u001b[0m\n",
      "\u001b[1;31mValueError\u001b[0m: Your number should >= 0 and <= 100"
     ]
    }
   ],
   "source": [
    "def quartile_calc (userNum):\n",
    "    if userNum < 0 or userNum > 100:\n",
    "        raise ValueError('Your number should >= 0 and <= 100')\n",
    "    elif userNum <= 25:\n",
    "        print \"1st Quartile\"\n",
    "    elif userNum > 25 and userNum <= 50:\n",
    "        print \"2nd Quartile\"\n",
    "    elif userNum > 50 and userNum <= 75:\n",
    "        print \"3rd Quartile\"\n",
    "    else: \n",
    "        print \"4th Quartile\"\n",
    "\n",
    "quartile_calc(14)\n",
    "quartile_calc(101)"
   ]
  },
  {
   "cell_type": "markdown",
   "metadata": {},
   "source": [
    "### Extra credit \n",
    "please visit https://github.com/edwardlxb/CodingWithPython_R for the rmd file and html file. "
   ]
  },
  {
   "cell_type": "code",
   "execution_count": null,
   "metadata": {},
   "outputs": [],
   "source": []
  }
 ],
 "metadata": {
  "kernelspec": {
   "display_name": "Python 2",
   "language": "python",
   "name": "python2"
  },
  "language_info": {
   "codemirror_mode": {
    "name": "ipython",
    "version": 2
   },
   "file_extension": ".py",
   "mimetype": "text/x-python",
   "name": "python",
   "nbconvert_exporter": "python",
   "pygments_lexer": "ipython2",
   "version": "2.7.15"
  }
 },
 "nbformat": 4,
 "nbformat_minor": 2
}
